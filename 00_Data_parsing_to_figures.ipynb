{
 "cells": [
  {
   "cell_type": "code",
   "execution_count": 1,
   "id": "da837124",
   "metadata": {},
   "outputs": [],
   "source": [
    "# ### File to automate the data parsing of the output files (excel files of energies) and create the required graphs \n",
    "# and input-output csv file for ML network input"
   ]
  },
  {
   "cell_type": "code",
   "execution_count": 2,
   "id": "3da2a0b8",
   "metadata": {},
   "outputs": [],
   "source": [
    "import pandas as pd\n",
    "import matplotlib.pyplot as plt\n",
    "from numpy import trapz\n",
    "import numpy as np\n",
    "\n",
    "M = 100 #Number of models\n",
    "\n",
    "### Read job output files and creat the figures for energies and RF-U\n",
    "\n",
    "for ii in range(1,M+1):\n",
    "    data = pd.read_csv(\"Dynamic_Job-%d_Energies_RF_U.csv\" %(ii))\n",
    "    t = data[\"Time_steps\"][:]\n",
    "    AE = data[\"Artificial_Energy\"][:]\n",
    "    IE = data[\"Internal_Energy\"][:]\n",
    "    KE = data[\"Kinetic_Energy\"][:]\n",
    "    TE = data[\"Total_En\"][:]\n",
    "    U3 = data[\"Disp_Im\"][:]\n",
    "    RF = data[\"Contact_Normal_Force\"][:]\n",
    "    plt.plot(t, AE, color='b', label='Artificial Strain Energy')\n",
    "    plt.plot(t, IE, color='g', label='Internal Energy')\n",
    "    plt.plot(t, KE, color='r', label='Kinetic Energy')\n",
    "    plt.plot(t, TE, color='k', label='Total Energy')\n",
    "    plt.legend()\n",
    "    plt.title(\"Energies - time\")\n",
    "    plt.xlabel('Time (s)')\n",
    "    plt.ylabel('Energy (KJ)')\n",
    "    plt.savefig('Job-%d_Energies.png' %(ii))\n",
    "    plt.close()    # close the figure window\n",
    "    plt.plot(U3,RF, color='violet', label='Reaction force of CB')\n",
    "    plt.legend()\n",
    "    plt.title(\"Reaction force - displacement\")\n",
    "    plt.xlabel('Displacement of impactor (mm)')\n",
    "    plt.ylabel('Reaction force (N)')\n",
    "    plt.savefig('Job-%d_RF_Disp.png' %(ii))\n",
    "    plt.close()    # close the figure window"
   ]
  },
  {
   "cell_type": "code",
   "execution_count": 3,
   "id": "e94bd533",
   "metadata": {},
   "outputs": [],
   "source": [
    "### Calculate the peak impact force, energy absorbed, total deformation and mean impact force in every job file\n",
    "\n",
    "# Two new dictionaries to store the peak impact force and energy abosorbed for every job\n",
    "max_value = []\n",
    "area = []\n",
    "Deforamtion = []\n",
    "Mean_force = []\n",
    "CB_weight = []\n",
    "\n",
    "for jj in range(1,M+1):\n",
    "    data = pd.read_csv(\"Dynamic_Job-%d_Energies_RF_U.csv\" %(jj))\n",
    "    t = data[\"Time_steps\"][:]\n",
    "    IE = data[\"Internal_Energy\"][:]\n",
    "    RF = data[\"Contact_Normal_Force\"][:]\n",
    "    AE = data[\"Artificial_Energy\"][:]\n",
    "    U3 = data[\"Disp_Im\"][:]\n",
    "    mass_CB = data[\"CB_mass\"][:]\n",
    "    \n",
    "    MV = round(RF[:50].max()/1000,5)\n",
    "    max_value.append(MV)\n",
    "\n",
    "    EA = round((IE[200]-AE[200])/1000000,5)\n",
    "    area.append(EA)\n",
    "    \n",
    "    d = round(U3.max(),4)-10\n",
    "    Deforamtion.append(d)\n",
    "    \n",
    "    P_mean = round((EA*1000)/d,5)\n",
    "    Mean_force.append(P_mean)\n",
    "    \n",
    "    mass = mass_CB.max()*1000000\n",
    "    CB_weight.append(mass)"
   ]
  },
  {
   "cell_type": "code",
   "execution_count": 9,
   "id": "4c91a1e0",
   "metadata": {},
   "outputs": [],
   "source": [
    "# read the previously generated file for model and it's parameters\n",
    "df = pd.read_csv('model_database_dynamic_impact_sims.csv')\n",
    "\n",
    "# Add columns in right to add the peak impact force and energy absorbed\n",
    "df[\"Peak_Impact_Force_KN\"] = max_value\n",
    "df['Energy_Absorbed_KJ'] = area\n",
    "df['Deformation_CB_mm'] = Deforamtion\n",
    "df['Mean_impact_force_KN']= Mean_force\n",
    "df['Mass_CB_g'] = CB_weight"
   ]
  },
  {
   "cell_type": "code",
   "execution_count": 11,
   "id": "a122b725",
   "metadata": {},
   "outputs": [
    {
     "name": "stdout",
     "output_type": "stream",
     "text": [
      "False\n",
      "Index(['Model', 'Width', 'Height', 'Thickness', 'Length', 'Velocity',\n",
      "       'Mass_Im', 'Dynamic_Job', 'Time_req_s', 'Peak_Impact_Force_KN',\n",
      "       'Energy_Absorbed_KJ', 'Deformation_CB_mm', 'Mean_impact_force_KN',\n",
      "       'Mass_CB_g'],\n",
      "      dtype='object')\n"
     ]
    }
   ],
   "source": [
    "print(isinstance(df, dict))\n",
    "print(df.keys())"
   ]
  },
  {
   "cell_type": "code",
   "execution_count": 12,
   "id": "cb68c149",
   "metadata": {},
   "outputs": [],
   "source": [
    "# Save the new file in excel file with new name 'Model_Database'\n",
    "df.to_excel('MODELS_DATABASE.xlsx', index=False)\n",
    "df.to_csv('MODELS_DATABASE.csv', index=False)"
   ]
  },
  {
   "cell_type": "code",
   "execution_count": null,
   "id": "99d3e7e7",
   "metadata": {},
   "outputs": [],
   "source": []
  },
  {
   "cell_type": "code",
   "execution_count": null,
   "id": "2ba03e4f",
   "metadata": {},
   "outputs": [],
   "source": []
  },
  {
   "cell_type": "code",
   "execution_count": null,
   "id": "3c11951e",
   "metadata": {},
   "outputs": [],
   "source": []
  }
 ],
 "metadata": {
  "kernelspec": {
   "display_name": "Python 3 (ipykernel)",
   "language": "python",
   "name": "python3"
  },
  "language_info": {
   "codemirror_mode": {
    "name": "ipython",
    "version": 3
   },
   "file_extension": ".py",
   "mimetype": "text/x-python",
   "name": "python",
   "nbconvert_exporter": "python",
   "pygments_lexer": "ipython3",
   "version": "3.9.13"
  }
 },
 "nbformat": 4,
 "nbformat_minor": 5
}
